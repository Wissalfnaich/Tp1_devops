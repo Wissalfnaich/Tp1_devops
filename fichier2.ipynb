{
 "cells": [
  {
   "cell_type": "code",
   "execution_count": 1,
   "id": "afe94bfa",
   "metadata": {},
   "outputs": [
    {
     "name": "stdout",
     "output_type": "stream",
     "text": [
      "Le résultat de la soustraction est : 6\n"
     ]
    }
   ],
   "source": [
    "# fichier2.txt\n",
    "def soustraction(a, b):\n",
    "    return a - b\n",
    "\n",
    "resultat = soustraction(10, 4)\n",
    "print(f\"Le résultat de la soustraction est : {resultat}\")\n"
   ]
  },
  {
   "cell_type": "code",
   "execution_count": 2,
   "id": "fc4c85df",
   "metadata": {},
   "outputs": [
    {
     "name": "stdout",
     "output_type": "stream",
     "text": [
      "Le résultat de la multiplication est : 24\n"
     ]
    }
   ],
   "source": [
    "# Ajout d'une nouvelle fonction\n",
    "def multiplication(a, b):\n",
    "    return a * b\n",
    "\n",
    "print(f\"Le résultat de la multiplication est : {multiplication(4, 6)}\")\n"
   ]
  },
  {
   "cell_type": "code",
   "execution_count": null,
   "id": "332e3f53",
   "metadata": {},
   "outputs": [],
   "source": []
  }
 ],
 "metadata": {
  "kernelspec": {
   "display_name": "Python 3 (ipykernel)",
   "language": "python",
   "name": "python3"
  },
  "language_info": {
   "codemirror_mode": {
    "name": "ipython",
    "version": 3
   },
   "file_extension": ".py",
   "mimetype": "text/x-python",
   "name": "python",
   "nbconvert_exporter": "python",
   "pygments_lexer": "ipython3",
   "version": "3.11.5"
  }
 },
 "nbformat": 4,
 "nbformat_minor": 5
}
