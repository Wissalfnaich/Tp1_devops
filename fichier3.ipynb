{
 "cells": [
  {
   "cell_type": "code",
   "execution_count": 1,
   "id": "58443722",
   "metadata": {},
   "outputs": [
    {
     "name": "stdout",
     "output_type": "stream",
     "text": [
      "Le résultat de la division de 10 par 2 est : 5.0\n",
      "Le résultat de la division de 10 par 0 est : Erreur : division par zéro\n",
      "Le résultat de la division de 10 par deux est : Erreur : les deux paramètres doivent être des nombres\n"
     ]
    }
   ],
   "source": [
    "# fichier3.txt\n",
    "def division(a, b):\n",
    "    \"\"\"\n",
    "    Fonction qui divise deux nombres a et b.\n",
    "    Si b est égal à 0, elle retourne un message d'erreur.\n",
    "    \"\"\"\n",
    "    try:\n",
    "        # Tentative de division\n",
    "        resultat = a / b\n",
    "    except ZeroDivisionError:\n",
    "        # Gestion de l'erreur de division par zéro\n",
    "        return \"Erreur : division par zéro\"\n",
    "    except TypeError:\n",
    "        # Gestion du cas où les entrées ne sont pas des nombres\n",
    "        return \"Erreur : les deux paramètres doivent être des nombres\"\n",
    "    else:\n",
    "        # Retourne le résultat si la division est réussie\n",
    "        return resultat\n",
    "\n",
    "# Test de la fonction\n",
    "a, b = 10, 2\n",
    "resultat = division(a, b)\n",
    "print(f\"Le résultat de la division de {a} par {b} est : {resultat}\")\n",
    "\n",
    "# Test avec division par zéro\n",
    "a, b = 10, 0\n",
    "resultat = division(a, b)\n",
    "print(f\"Le résultat de la division de {a} par {b} est : {resultat}\")\n",
    "\n",
    "# Test avec mauvais types de paramètres\n",
    "a, b = 10, \"deux\"\n",
    "resultat = division(a, b)\n",
    "print(f\"Le résultat de la division de {a} par {b} est : {resultat}\")\n"
   ]
  },
  {
   "cell_type": "code",
   "execution_count": null,
   "id": "a4d5f71f",
   "metadata": {},
   "outputs": [],
   "source": []
  }
 ],
 "metadata": {
  "kernelspec": {
   "display_name": "Python 3 (ipykernel)",
   "language": "python",
   "name": "python3"
  },
  "language_info": {
   "codemirror_mode": {
    "name": "ipython",
    "version": 3
   },
   "file_extension": ".py",
   "mimetype": "text/x-python",
   "name": "python",
   "nbconvert_exporter": "python",
   "pygments_lexer": "ipython3",
   "version": "3.11.5"
  }
 },
 "nbformat": 4,
 "nbformat_minor": 5
}
