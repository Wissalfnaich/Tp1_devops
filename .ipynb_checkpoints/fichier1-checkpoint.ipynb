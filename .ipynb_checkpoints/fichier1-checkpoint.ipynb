{
 "cells": [
  {
   "cell_type": "code",
   "execution_count": 1,
   "id": "4b0beb2d",
   "metadata": {},
   "outputs": [
    {
     "name": "stdout",
     "output_type": "stream",
     "text": [
      "Le résultat de l'addition est : 8\n"
     ]
    }
   ],
   "source": [
    "# fichier1.txt\n",
    "def addition(a, b):\n",
    "    return a + b\n",
    "\n",
    "resultat = addition(5, 3)\n",
    "print(f\"Le résultat de l'addition est : {resultat}\")\n"
   ]
  },
  {
   "cell_type": "code",
   "execution_count": null,
   "id": "7be3162e",
   "metadata": {},
   "outputs": [],
   "source": []
  }
 ],
 "metadata": {
  "kernelspec": {
   "display_name": "Python 3 (ipykernel)",
   "language": "python",
   "name": "python3"
  },
  "language_info": {
   "codemirror_mode": {
    "name": "ipython",
    "version": 3
   },
   "file_extension": ".py",
   "mimetype": "text/x-python",
   "name": "python",
   "nbconvert_exporter": "python",
   "pygments_lexer": "ipython3",
   "version": "3.11.5"
  }
 },
 "nbformat": 4,
 "nbformat_minor": 5
}
